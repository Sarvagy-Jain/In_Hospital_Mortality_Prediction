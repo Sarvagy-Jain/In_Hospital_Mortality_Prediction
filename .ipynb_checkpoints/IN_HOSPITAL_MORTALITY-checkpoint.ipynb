{
 "cells": [
  {
   "cell_type": "code",
   "execution_count": 1,
   "id": "90dc851f",
   "metadata": {},
   "outputs": [],
   "source": [
    "import os\n",
    "import pandas as pd\n",
    "import numpy as np\n",
    "import matplotlib.pyplot as plt\n",
    "%matplotlib inline\n",
    "import seaborn as sns\n",
    "\n",
    "from sklearn.metrics import confusion_matrix, classification_report\n",
    "from sklearn.linear_model import LinearRegression\n",
    "from sklearn.neighbors import KNeighborsClassifier\n",
    "from sklearn.tree import DecisionTreeClassifier\n",
    "from sklearn.ensemble import RandomForestClassifier\n",
    "from sklearn.naive_bayes import GaussianNB\n",
    "from sklearn.linear_model import LogisticRegression\n",
    "from sklearn.metrics import ConfusionMatrixDisplay\n",
    "from sklearn.svm import SVC"
   ]
  },
  {
   "cell_type": "code",
   "execution_count": 2,
   "id": "f5f65b10",
   "metadata": {
    "scrolled": true
   },
   "outputs": [],
   "source": [
    "df = pd.read_csv(\"In-Hospital-Mortality.csv\")"
   ]
  },
  {
   "cell_type": "code",
   "execution_count": 3,
   "id": "43e68797",
   "metadata": {},
   "outputs": [],
   "source": [
    "df = df.drop(['ID','gendera'], axis=1)"
   ]
  },
  {
   "cell_type": "code",
   "execution_count": 8,
   "id": "cafee04c",
   "metadata": {
    "scrolled": true
   },
   "outputs": [
    {
     "data": {
      "text/plain": [
       "(1177, 49)"
      ]
     },
     "execution_count": 8,
     "metadata": {},
     "output_type": "execute_result"
    }
   ],
   "source": [
    "df.shape"
   ]
  },
  {
   "cell_type": "markdown",
   "id": "899960a2",
   "metadata": {},
   "source": [
    "###### We have 1177 rows and 51 columns"
   ]
  },
  {
   "cell_type": "code",
   "execution_count": 4,
   "id": "21d8bc2a",
   "metadata": {
    "scrolled": true
   },
   "outputs": [],
   "source": [
    "df.describe()"
   ]
  },
  {
   "cell_type": "code",
   "execution_count": 6,
   "id": "a925caff",
   "metadata": {},
   "outputs": [
    {
     "data": {
      "text/plain": [
       "group                          2\n",
       "outcome                        2\n",
       "age                           68\n",
       "BMI                          933\n",
       "hypertensive                   2\n",
       "atrialfibrillation             2\n",
       "CHD with no MI                 2\n",
       "diabetes                       2\n",
       "deficiencyanemias              2\n",
       "depression                     2\n",
       "Hyperlipemia                   2\n",
       "Renal failure                  2\n",
       "COPD                           2\n",
       "heart rate                  1094\n",
       "Systolic blood pressure     1102\n",
       "Diastolic blood pressure    1077\n",
       "Respiratory rate            1004\n",
       "temperature                  775\n",
       "SP O2                        866\n",
       "Urine output                 810\n",
       "hematocrit                  1056\n",
       "RBC                         1045\n",
       "MCH                          926\n",
       "MCHC                         803\n",
       "MCV                          601\n",
       "RDW                          836\n",
       "Leucocyte                    983\n",
       "Platelets                   1085\n",
       "Neutrophils                  635\n",
       "Basophils                     73\n",
       "Lymphocyte                   541\n",
       "PT                           783\n",
       "INR                          425\n",
       "NT-proBNP                   1147\n",
       "Creatine kinase              691\n",
       "Creatinine                   729\n",
       "Urea nitrogen                925\n",
       "glucose                      802\n",
       "Blood potassium              645\n",
       "Blood sodium                 600\n",
       "Blood calcium                587\n",
       "Chloride                     675\n",
       "Anion gap                    486\n",
       "Magnesium ion                447\n",
       "PH                           413\n",
       "Bicarbonate                  657\n",
       "Lactic acid                  301\n",
       "PCO2                         464\n",
       "EF                            14\n",
       "dtype: int64"
      ]
     },
     "execution_count": 6,
     "metadata": {},
     "output_type": "execute_result"
    }
   ],
   "source": [
    "df.nunique()"
   ]
  },
  {
   "cell_type": "code",
   "execution_count": 66,
   "id": "7e33d718",
   "metadata": {},
   "outputs": [
    {
     "name": "stdout",
     "output_type": "stream",
     "text": [
      "Your selected dataframe has 49 columns.\n",
      "There are 20 columns that have missing values.\n",
      "                          Missing Values  % of Total Values\n",
      "PCO2                                 294               25.0\n",
      "PH                                   292               24.8\n",
      "Basophils                            259               22.0\n",
      "Lactic acid                          229               19.5\n",
      "BMI                                  215               18.3\n",
      "Creatine kinase                      165               14.0\n",
      "Lymphocyte                           145               12.3\n",
      "Neutrophils                          144               12.2\n",
      "Urine output                          36                3.1\n",
      "INR                                   20                1.7\n",
      "PT                                    20                1.7\n",
      "temperature                           19                1.6\n",
      "glucose                               18                1.5\n",
      "Systolic blood pressure               16                1.4\n",
      "Diastolic blood pressure              16                1.4\n",
      "SP O2                                 13                1.1\n",
      "heart rate                            13                1.1\n",
      "Respiratory rate                      13                1.1\n",
      "Blood calcium                          1                0.1\n",
      "outcome                                1                0.1\n"
     ]
    }
   ],
   "source": [
    "mis_val = df.isnull().sum()\n",
    "mis_val_percent = 100 * df.isnull().sum() / len(df)\n",
    "mis_val_table = pd.concat([mis_val, mis_val_percent], axis=1)\n",
    "mis_val_table_ren_columns = mis_val_table.rename(\n",
    "columns = {0 : 'Missing Values', 1 : '% of Total Values'})\n",
    "mis_val_table_ren_columns = mis_val_table_ren_columns[\n",
    "mis_val_table_ren_columns.iloc[:,1] != 0].sort_values(\n",
    "'% of Total Values', ascending=False).round(1)\n",
    "print (\"Your selected dataframe has \" + str(df.shape[1]) + \" columns.\\n\"      \n",
    "\"There are \" + str(mis_val_table_ren_columns.shape[0])+\" columns that have missing values.\")\n",
    "print(mis_val_table_ren_columns)"
   ]
  },
  {
   "cell_type": "code",
   "execution_count": 7,
   "id": "2c7c128f",
   "metadata": {
    "scrolled": true
   },
   "outputs": [
    {
     "data": {
      "text/plain": [
       "<AxesSubplot:xlabel='BMI'>"
      ]
     },
     "execution_count": 7,
     "metadata": {},
     "output_type": "execute_result"
    },
    {
     "data": {
      "image/png": "[encoded data removed]",
      "text/plain": [
       "<Figure size 432x288 with 1 Axes>"
      ]
     },
     "metadata": {
      "needs_background": "light"
     },
     "output_type": "display_data"
    }
   ],
   "source": [
    "sns.boxplot(x=df[\"BMI\"])"
   ]
  },
  {
   "cell_type": "markdown",
   "id": "7bc0f7e0",
   "metadata": {},
   "source": [
    "###### there are outliers So Considering median for NA values"
   ]
  },
  {
   "cell_type": "code",
   "execution_count": 8,
   "id": "52599db2",
   "metadata": {
    "scrolled": false
   },
   "outputs": [
    {
     "data": {
      "text/plain": [
       "group                         0\n",
       "outcome                       1\n",
       "age                           0\n",
       "BMI                         215\n",
       "hypertensive                  0\n",
       "atrialfibrillation            0\n",
       "CHD with no MI                0\n",
       "diabetes                      0\n",
       "deficiencyanemias             0\n",
       "depression                    0\n",
       "Hyperlipemia                  0\n",
       "Renal failure                 0\n",
       "COPD                          0\n",
       "heart rate                   13\n",
       "Systolic blood pressure      16\n",
       "Diastolic blood pressure     16\n",
       "Respiratory rate             13\n",
       "temperature                  19\n",
       "SP O2                        13\n",
       "Urine output                 36\n",
       "hematocrit                    0\n",
       "RBC                           0\n",
       "MCH                           0\n",
       "MCHC                          0\n",
       "MCV                           0\n",
       "RDW                           0\n",
       "Leucocyte                     0\n",
       "Platelets                     0\n",
       "Neutrophils                 144\n",
       "Basophils                   259\n",
       "Lymphocyte                  145\n",
       "PT                           20\n",
       "INR                          20\n",
       "NT-proBNP                     0\n",
       "Creatine kinase             165\n",
       "Creatinine                    0\n",
       "Urea nitrogen                 0\n",
       "glucose                      18\n",
       "Blood potassium               0\n",
       "Blood sodium                  0\n",
       "Blood calcium                 1\n",
       "Chloride                      0\n",
       "Anion gap                     0\n",
       "Magnesium ion                 0\n",
       "PH                          292\n",
       "Bicarbonate                   0\n",
       "Lactic acid                 229\n",
       "PCO2                        294\n",
       "EF                            0\n",
       "dtype: int64"
      ]
     },
     "execution_count": 8,
     "metadata": {},
     "output_type": "execute_result"
    }
   ],
   "source": [
    "df.isnull().sum(axis = 0)"
   ]
  },
  {
   "cell_type": "code",
   "execution_count": 11,
   "id": "aad125e0",
   "metadata": {},
   "outputs": [],
   "source": [
    "# df[\"Basophils\"].describe()\n",
    "# df[\"Neutrophils\"].describe()"
   ]
  },
  {
   "cell_type": "code",
   "execution_count": 12,
   "id": "293769f4",
   "metadata": {},
   "outputs": [],
   "source": [
    "# df.BMI = df.BMI.fillna(df.BMI.mean())\n",
    "# df.Neutrophils = df.Neutrophils.fillna(df.Neutrophils.mean())\n",
    "# df.Basophils = df.Basophils.fillna(df.BMI.median())\n"
   ]
  },
  {
   "cell_type": "code",
   "execution_count": 13,
   "id": "4db5fd67",
   "metadata": {},
   "outputs": [],
   "source": [
    "# df.BMI.median()\n"
   ]
  },
  {
   "cell_type": "code",
   "execution_count": 14,
   "id": "411b37b2",
   "metadata": {},
   "outputs": [],
   "source": [
    "# df.BMI.mean()"
   ]
  },
  {
   "cell_type": "code",
   "execution_count": 11,
   "id": "c4557308",
   "metadata": {},
   "outputs": [],
   "source": [
    "df = df.dropna()"
   ]
  },
  {
   "cell_type": "code",
   "execution_count": 12,
   "id": "940d8a1e",
   "metadata": {},
   "outputs": [
    {
     "data": {
      "text/plain": [
       "(428, 49)"
      ]
     },
     "execution_count": 12,
     "metadata": {},
     "output_type": "execute_result"
    }
   ],
   "source": [
    "df.shape"
   ]
  },
  {
   "cell_type": "markdown",
   "id": "aa21aec5",
   "metadata": {},
   "source": [
    "###### We heave 428 rows and 49 columns in our dataset "
   ]
  },
  {
   "cell_type": "code",
   "execution_count": 9,
   "id": "27792817",
   "metadata": {},
   "outputs": [
    {
     "data": {
      "text/plain": [
       "Index(['group', 'outcome', 'age', 'BMI', 'hypertensive', 'atrialfibrillation',\n",
       "       'CHD with no MI', 'diabetes', 'deficiencyanemias', 'depression',\n",
       "       'Hyperlipemia', 'Renal failure', 'COPD', 'heart rate',\n",
       "       'Systolic blood pressure', 'Diastolic blood pressure',\n",
       "       'Respiratory rate', 'temperature', 'SP O2', 'Urine output',\n",
       "       'hematocrit', 'RBC', 'MCH', 'MCHC', 'MCV', 'RDW', 'Leucocyte',\n",
       "       'Platelets', 'Neutrophils', 'Basophils', 'Lymphocyte', 'PT', 'INR',\n",
       "       'NT-proBNP', 'Creatine kinase', 'Creatinine', 'Urea nitrogen',\n",
       "       'glucose', 'Blood potassium', 'Blood sodium', 'Blood calcium',\n",
       "       'Chloride', 'Anion gap', 'Magnesium ion', 'PH', 'Bicarbonate',\n",
       "       'Lactic acid', 'PCO2', 'EF'],\n",
       "      dtype='object')"
      ]
     },
     "execution_count": 9,
     "metadata": {},
     "output_type": "execute_result"
    }
   ],
   "source": [
    "df.keys()"
   ]
  },
  {
   "cell_type": "markdown",
   "id": "c39d2f22",
   "metadata": {},
   "source": [
    "###### Removing Those Colmuns whose Outcome is not Known"
   ]
  },
  {
   "cell_type": "code",
   "execution_count": 13,
   "id": "93fbc2dc",
   "metadata": {},
   "outputs": [],
   "source": [
    "df = df[df['outcome'].notna()]"
   ]
  },
  {
   "cell_type": "code",
   "execution_count": 14,
   "id": "28eb1591",
   "metadata": {},
   "outputs": [
    {
     "data": {
      "text/plain": [
       "(428, 49)"
      ]
     },
     "execution_count": 14,
     "metadata": {},
     "output_type": "execute_result"
    }
   ],
   "source": [
    "df.shape"
   ]
  },
  {
   "cell_type": "code",
   "execution_count": 15,
   "id": "ed1735b5",
   "metadata": {},
   "outputs": [
    {
     "data": {
      "text/plain": [
       "301"
      ]
     },
     "execution_count": 15,
     "metadata": {},
     "output_type": "execute_result"
    }
   ],
   "source": [
    "len(df[df[\"group\"]==1])"
   ]
  },
  {
   "cell_type": "markdown",
   "id": "fcc46de2",
   "metadata": {},
   "source": [
    "###### we will be having 301 rows in  our training dataset"
   ]
  },
  {
   "cell_type": "code",
   "execution_count": 16,
   "id": "36b1038e",
   "metadata": {},
   "outputs": [
    {
     "data": {
      "text/plain": [
       "127"
      ]
     },
     "execution_count": 16,
     "metadata": {},
     "output_type": "execute_result"
    }
   ],
   "source": [
    "len(df[df[\"group\"]==2])"
   ]
  },
  {
   "cell_type": "markdown",
   "id": "e4695651",
   "metadata": {},
   "source": [
    "###### we will be having 127 rows in  our testing dataset"
   ]
  },
  {
   "cell_type": "code",
   "execution_count": 17,
   "id": "e3323f82",
   "metadata": {},
   "outputs": [],
   "source": [
    "#df[df.keys()].isna().sum()"
   ]
  },
  {
   "cell_type": "code",
   "execution_count": 19,
   "id": "bb4f3e0b",
   "metadata": {},
   "outputs": [
    {
     "data": {
      "text/plain": [
       "<AxesSubplot:ylabel='outcome'>"
      ]
     },
     "execution_count": 19,
     "metadata": {},
     "output_type": "execute_result"
    },
    {
     "data": {
      "image/png": "[encoded data removed]",
      "text/plain": [
       "<Figure size 720x720 with 1 Axes>"
      ]
     },
     "metadata": {},
     "output_type": "display_data"
    }
   ],
   "source": [
    "df.groupby('hypertensive')[\"outcome\"].count().plot(kind=\"pie\",autopct='%1.1f%%',shadow=True,figsize=(10,10),title=\"\")"
   ]
  },
  {
   "cell_type": "code",
   "execution_count": 9,
   "id": "eab88cc5",
   "metadata": {},
   "outputs": [
    {
     "name": "stderr",
     "output_type": "stream",
     "text": [
      "C:\\Users\\DELL\\anaconda3\\lib\\site-packages\\seaborn\\_decorators.py:36: FutureWarning: Pass the following variable as a keyword arg: x. From version 0.12, the only valid positional argument will be `data`, and passing other arguments without an explicit keyword will result in an error or misinterpretation.\n",
      "  warnings.warn(\n"
     ]
    },
    {
     "data": {
      "image/png": "[encoded data removed]",
      "text/plain": [
       "<Figure size 720x576 with 1 Axes>"
      ]
     },
     "metadata": {
      "needs_background": "light"
     },
     "output_type": "display_data"
    }
   ],
   "source": [
    "plt.figure(figsize=[10,8])\n",
    "plot = sns.countplot(df['diabetes'], hue= df['outcome'])\n",
    "\n",
    "for bar in plot.patches:\n",
    "  plot.annotate(format(bar.get_height()),\n",
    "                (bar.get_x() + bar.get_width() / 2, \n",
    "                bar.get_height()), ha='center', va='center',\n",
    "                size=10, xytext=(0,8),\n",
    "                textcoords = 'offset points')\n",
    "  \n",
    "plt.title('Diabetes Vs. Outcome', fontsize=14)\n",
    "\n",
    "plt.show()"
   ]
  },
  {
   "cell_type": "code",
   "execution_count": 20,
   "id": "636e80c0",
   "metadata": {},
   "outputs": [
    {
     "data": {
      "image/png": "[encoded data removed]",
      "text/plain": [
       "<Figure size 800x500 with 1 Axes>"
      ]
     },
     "metadata": {},
     "output_type": "display_data"
    }
   ],
   "source": [
    "fig, ax = plt.subplots(figsize=(8,5), dpi=100)\n",
    "\n",
    "patches, texts, autotexts = ax.pie(df['outcome'].value_counts(), autopct= '%1.1f%%', shadow=True, \n",
    "                                   startangle=90, explode=(0.1, 0), labels=['Alive','Death'], colors=['orange','yellow'])\n",
    "\n",
    "plt.setp(autotexts, size=13, color = 'blue', weight='bold')\n",
    "autotexts[1].set_color('blue');\n",
    "\n",
    "plt.title('Outcome Distribution', fontsize=18, fontweight='bold')\n",
    "plt.show()"
   ]
  },
  {
   "cell_type": "code",
   "execution_count": 21,
   "id": "af22043c",
   "metadata": {},
   "outputs": [
    {
     "data": {
      "text/plain": [
       "65"
      ]
     },
     "execution_count": 21,
     "metadata": {},
     "output_type": "execute_result"
    }
   ],
   "source": [
    "d = df[df['outcome']==1]\n",
    "len(df[df['outcome']==1])"
   ]
  },
  {
   "cell_type": "code",
   "execution_count": 22,
   "id": "4ef7b208",
   "metadata": {},
   "outputs": [
    {
     "data": {
      "text/plain": [
       "3"
      ]
     },
     "execution_count": 22,
     "metadata": {},
     "output_type": "execute_result"
    }
   ],
   "source": [
    "len(d[d['depression'] == 1 ])"
   ]
  },
  {
   "cell_type": "code",
   "execution_count": 23,
   "id": "b966244d",
   "metadata": {},
   "outputs": [
    {
     "data": {
      "text/plain": [
       "12"
      ]
     },
     "execution_count": 23,
     "metadata": {},
     "output_type": "execute_result"
    }
   ],
   "source": [
    "len(d[d['Renal failure'] == 1 ])"
   ]
  },
  {
   "cell_type": "code",
   "execution_count": 24,
   "id": "1f4bb5d5",
   "metadata": {},
   "outputs": [
    {
     "data": {
      "text/plain": [
       "26"
      ]
     },
     "execution_count": 24,
     "metadata": {},
     "output_type": "execute_result"
    }
   ],
   "source": [
    "len(d[d['Hyperlipemia'] == 1 ])"
   ]
  },
  {
   "cell_type": "code",
   "execution_count": 25,
   "id": "3cbade9f",
   "metadata": {},
   "outputs": [
    {
     "data": {
      "text/plain": [
       "11"
      ]
     },
     "execution_count": 25,
     "metadata": {},
     "output_type": "execute_result"
    }
   ],
   "source": [
    "len(d[d['deficiencyanemias'] == 1 ])"
   ]
  },
  {
   "cell_type": "code",
   "execution_count": 26,
   "id": "fec5d172",
   "metadata": {},
   "outputs": [
    {
     "data": {
      "text/plain": [
       "26"
      ]
     },
     "execution_count": 26,
     "metadata": {},
     "output_type": "execute_result"
    }
   ],
   "source": [
    "len(d[d['diabetes'] == 1 ])"
   ]
  },
  {
   "cell_type": "code",
   "execution_count": 27,
   "id": "ccce2bcb",
   "metadata": {},
   "outputs": [
    {
     "data": {
      "text/plain": [
       "33"
      ]
     },
     "execution_count": 27,
     "metadata": {},
     "output_type": "execute_result"
    }
   ],
   "source": [
    "len(d[d['atrialfibrillation'] == 1])"
   ]
  },
  {
   "cell_type": "code",
   "execution_count": 28,
   "id": "ed0c10c7",
   "metadata": {},
   "outputs": [],
   "source": [
    "numerical_features = [features for features in df.columns if len(df[features].unique())>3]\n",
    "categorical_features = [features for features in df.columns if features not in numerical_features]"
   ]
  },
  {
   "cell_type": "code",
   "execution_count": 29,
   "id": "10f81e6c",
   "metadata": {},
   "outputs": [
    {
     "data": {
      "image/png": "[encoded data removed]",
      "text/plain": [
       "<Figure size 1080x720 with 2 Axes>"
      ]
     },
     "metadata": {
      "needs_background": "light"
     },
     "output_type": "display_data"
    }
   ],
   "source": [
    "corr = df[categorical_features].corr()\n",
    "plt.figure(figsize=(15,10))\n",
    "sns.heatmap(corr, annot=True, cmap='YlOrBr');"
   ]
  },
  {
   "cell_type": "code",
   "execution_count": 30,
   "id": "31f10946",
   "metadata": {},
   "outputs": [],
   "source": [
    "# cor = df[numerical_features].corr()\n",
    "# plt.figure(figsize=(30,25))\n",
    "# sns.heatmap(cor, annot=True, cmap='PiYG');"
   ]
  },
  {
   "cell_type": "code",
   "execution_count": null,
   "id": "a3fef234",
   "metadata": {},
   "outputs": [],
   "source": []
  },
  {
   "cell_type": "code",
   "execution_count": 32,
   "id": "a4783945",
   "metadata": {},
   "outputs": [],
   "source": [
    "#df = df.drop(['CHD with no MI'], axis=1)"
   ]
  },
  {
   "cell_type": "code",
   "execution_count": 33,
   "id": "2a269e99",
   "metadata": {},
   "outputs": [],
   "source": [
    "train = df.query(\"group==1\")\n",
    "test = df.query(\"group==2\")\n",
    "df_target=df['outcome']\n",
    "train = train.drop(['group'], axis=1)\n",
    "test = test.drop(['group'], axis=1)"
   ]
  },
  {
   "cell_type": "code",
   "execution_count": 34,
   "id": "65c4ec58",
   "metadata": {},
   "outputs": [],
   "source": [
    "Y_train = train['outcome']\n",
    "Y_test = test['outcome']"
   ]
  },
  {
   "cell_type": "code",
   "execution_count": 35,
   "id": "6d158bc1",
   "metadata": {},
   "outputs": [],
   "source": [
    "X_train = train.drop('outcome',axis = 1)\n",
    "X_test = test.drop('outcome',axis = 1)"
   ]
  },
  {
   "cell_type": "code",
   "execution_count": 36,
   "id": "8bdf42dd",
   "metadata": {},
   "outputs": [],
   "source": [
    "#Y_train"
   ]
  },
  {
   "cell_type": "code",
   "execution_count": 37,
   "id": "e00fc4e4",
   "metadata": {},
   "outputs": [],
   "source": [
    "#X_train"
   ]
  },
  {
   "cell_type": "code",
   "execution_count": 38,
   "id": "f792e1fc",
   "metadata": {},
   "outputs": [],
   "source": [
    "#X_test"
   ]
  },
  {
   "cell_type": "code",
   "execution_count": 39,
   "id": "016d077a",
   "metadata": {},
   "outputs": [],
   "source": [
    "#Y_test"
   ]
  },
  {
   "cell_type": "markdown",
   "id": "3c3fc0ef",
   "metadata": {},
   "source": [
    "### KNN"
   ]
  },
  {
   "cell_type": "code",
   "execution_count": 40,
   "id": "30adbdf1",
   "metadata": {},
   "outputs": [],
   "source": [
    "myKNN = KNeighborsClassifier(n_neighbors = 1)\n",
    "model = myKNN.fit(X_train, Y_train)\n",
    "Y_predict = myKNN.predict(X_test)"
   ]
  },
  {
   "cell_type": "code",
   "execution_count": 41,
   "id": "74e613aa",
   "metadata": {},
   "outputs": [],
   "source": [
    "cm = confusion_matrix(Y_predict,Y_test, labels=model.classes_)\n",
    "disp=ConfusionMatrixDisplay(cm,display_labels =['No Risk','High Risk']).plot()\n",
    "disp.plot(include_values=True, cmap='Oranges', xticks_rotation='horizontal')\n",
    "plt.show()"
   ]
  },
  {
   "cell_type": "code",
   "execution_count": 42,
   "id": "a79f7a7a",
   "metadata": {},
   "outputs": [],
   "source": [
    "print(classification_report(Y_test,Y_predict))"
   ]
  },
  {
   "cell_type": "markdown",
   "id": "ab70985f",
   "metadata": {},
   "source": [
    "### Decision Tree"
   ]
  },
  {
   "cell_type": "code",
   "execution_count": 43,
   "id": "d0dd6424",
   "metadata": {},
   "outputs": [],
   "source": [
    "dtree = DecisionTreeClassifier()\n",
    "model=dtree.fit(X_train, Y_train)\n",
    "Y_predict = dtree.predict(X_test)"
   ]
  },
  {
   "cell_type": "code",
   "execution_count": 44,
   "id": "cb145e81",
   "metadata": {},
   "outputs": [],
   "source": [
    "cm = confusion_matrix(Y_predict,Y_test, labels=model.classes_)\n",
    "disp=ConfusionMatrixDisplay(cm,display_labels =['No Risk','High Risk']).plot()\n",
    "disp.plot(include_values=True, cmap='Oranges', xticks_rotation='horizontal')\n",
    "plt.show()"
   ]
  },
  {
   "cell_type": "code",
   "execution_count": 45,
   "id": "7395c214",
   "metadata": {},
   "outputs": [],
   "source": [
    "print(classification_report(Y_test, Y_predict))"
   ]
  },
  {
   "cell_type": "markdown",
   "id": "32a31b1b",
   "metadata": {},
   "source": [
    "### Random Forest "
   ]
  },
  {
   "cell_type": "code",
   "execution_count": 46,
   "id": "a127e755",
   "metadata": {},
   "outputs": [],
   "source": [
    "rforest = RandomForestClassifier(n_estimators = 300)\n",
    "rforest.fit(X_train, Y_train)\n",
    "y_predict = rforest.predict(X_test)"
   ]
  },
  {
   "cell_type": "code",
   "execution_count": 47,
   "id": "0a1f03ce",
   "metadata": {},
   "outputs": [],
   "source": [
    "cm = confusion_matrix(Y_predict,Y_test, labels=model.classes_)\n",
    "disp=ConfusionMatrixDisplay(cm,display_labels =['No Risk','High Risk']).plot()\n",
    "disp.plot(include_values=True, cmap='Oranges', xticks_rotation='horizontal')\n",
    "plt.show()"
   ]
  },
  {
   "cell_type": "code",
   "execution_count": 48,
   "id": "44e77426",
   "metadata": {},
   "outputs": [],
   "source": [
    "print(classification_report(Y_test, Y_predict))"
   ]
  },
  {
   "cell_type": "markdown",
   "id": "84875c2d",
   "metadata": {},
   "source": [
    "### Naive Bayes"
   ]
  },
  {
   "cell_type": "code",
   "execution_count": 49,
   "id": "17808f24",
   "metadata": {},
   "outputs": [],
   "source": [
    "model = GaussianNB()\n",
    "model.fit(X_test,Y_test)\n",
    "y_predict = model.predict(X_test)"
   ]
  },
  {
   "cell_type": "code",
   "execution_count": 50,
   "id": "20cc97d3",
   "metadata": {},
   "outputs": [],
   "source": [
    "cm = confusion_matrix(Y_predict,Y_test, labels=model.classes_)\n",
    "disp=ConfusionMatrixDisplay(cm,display_labels =['No Risk','High Risk']).plot()\n",
    "disp.plot(include_values=True, cmap='Oranges', xticks_rotation='horizontal')\n",
    "plt.show()"
   ]
  },
  {
   "cell_type": "code",
   "execution_count": 113,
   "id": "97d0c0b4",
   "metadata": {},
   "outputs": [],
   "source": [
    "print(classification_report(Y_test,y_predict))"
   ]
  },
  {
   "cell_type": "code",
   "execution_count": 51,
   "id": "7d94c480",
   "metadata": {},
   "outputs": [],
   "source": [
    "DTR = DecisionTreeClassifier()\n",
    "RFR = RandomForestClassifier()\n",
    "KNR = KNeighborsClassifier()\n",
    "GAU = GaussianNB()\n",
    "#LogisticRegression(solver='lbfgs', max_iter=300 )"
   ]
  },
  {
   "cell_type": "code",
   "execution_count": 52,
   "id": "99f3c627",
   "metadata": {},
   "outputs": [
    {
     "name": "stdout",
     "output_type": "stream",
     "text": [
      "DecisionTreeClassifier() : 80.31496062992126\n",
      "RandomForestClassifier() : 85.8267716535433\n",
      "KNeighborsClassifier() : 86.61417322834646\n",
      "GaussianNB() : 86.61417322834646\n"
     ]
    }
   ],
   "source": [
    "from sklearn.metrics import accuracy_score\n",
    "li = [DTR,RFR,KNR,GAU]\n",
    "d = {}\n",
    "for i in li:\n",
    "    i.fit(X_train,Y_train)\n",
    "    ypred = i.predict(X_test)\n",
    "    print(i,\":\",accuracy_score(Y_test,ypred)*100)\n",
    "    d.update({str(i):i.score(X_test,Y_test)*100})"
   ]
  },
  {
   "cell_type": "markdown",
   "id": "1ed26de7",
   "metadata": {},
   "source": [
    "### Logistics "
   ]
  },
  {
   "cell_type": "code",
   "execution_count": null,
   "id": "ae91624f",
   "metadata": {},
   "outputs": [],
   "source": [
    "clf = LogisticRegression(solver='liblinear')\n",
    "clf.fit(X_train, Y_train)\n",
    "predictions = clf.predict(X_test)"
   ]
  },
  {
   "cell_type": "code",
   "execution_count": null,
   "id": "0717ac05",
   "metadata": {},
   "outputs": [],
   "source": [
    "cm = confusion_matrix(predictions,Y_test, labels=model.classes_)\n",
    "disp=ConfusionMatrixDisplay(cm,display_labels =['No Risk','High Risk']).plot()\n",
    "disp.plot(include_values=True, cmap='Oranges', xticks_rotation='horizontal')"
   ]
  },
  {
   "cell_type": "code",
   "execution_count": null,
   "id": "8a437f36",
   "metadata": {},
   "outputs": [],
   "source": [
    "print(classification_report(Y_test,predictions))"
   ]
  },
  {
   "cell_type": "markdown",
   "id": "8a11ff89",
   "metadata": {},
   "source": [
    "### SVM"
   ]
  },
  {
   "cell_type": "code",
   "execution_count": null,
   "id": "9d06048b",
   "metadata": {},
   "outputs": [],
   "source": [
    "classifier = SVC(kernel='rbf', random_state = 1)\n",
    "classifier.fit(X_train,Y_train)\n",
    "Y_pred = classifier.predict(X_test)"
   ]
  },
  {
   "cell_type": "code",
   "execution_count": null,
   "id": "9e013b09",
   "metadata": {},
   "outputs": [],
   "source": [
    "print(classification_report(Y_test,Y_pred))"
   ]
  },
  {
   "cell_type": "code",
   "execution_count": null,
   "id": "aa30a711",
   "metadata": {},
   "outputs": [],
   "source": []
  }
 ],
 "metadata": {
  "kernelspec": {
   "display_name": "Python 3 (ipykernel)",
   "language": "python",
   "name": "python3"
  },
  "language_info": {
   "codemirror_mode": {
    "name": "ipython",
    "version": 3
   },
   "file_extension": ".py",
   "mimetype": "text/x-python",
   "name": "python",
   "nbconvert_exporter": "python",
   "pygments_lexer": "ipython3",
   "version": "3.9.7"
  }
 },
 "nbformat": 4,
 "nbformat_minor": 5
}
